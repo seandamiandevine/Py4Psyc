{
 "cells": [
  {
   "cell_type": "markdown",
   "metadata": {},
   "source": [
    "# Variables"
   ]
  },
  {
   "cell_type": "code",
   "execution_count": 6,
   "metadata": {},
   "outputs": [
    {
     "data": {
      "text/plain": [
       "'Bob'"
      ]
     },
     "execution_count": 6,
     "metadata": {},
     "output_type": "execute_result"
    }
   ],
   "source": [
    "name = 'Bob' # string\n",
    "age = 25 # integer\n",
    "severity_of_fever = 4.5 # float \n",
    "expected_fever_decrease_after_laughter = 1.25 # float\n",
    "has_COVID = True # Boolean \n",
    "was_joke_funny = False # Boolean\n",
    "\n",
    "# # # # # \n",
    "name"
   ]
  },
  {
   "cell_type": "code",
   "execution_count": null,
   "metadata": {},
   "outputs": [],
   "source": [
    "severity_of_fever - expected_fever_decrease_after_laughter"
   ]
  },
  {
   "cell_type": "markdown",
   "metadata": {},
   "source": [
    "# Conditionals"
   ]
  },
  {
   "cell_type": "code",
   "execution_count": null,
   "metadata": {},
   "outputs": [],
   "source": [
    "# notice how after the 'if' statements, sections are tabbed in\n",
    "# this is crucial for python and this tab structure has to be obeyed \n",
    "# also note the '==', which stands for 'is equal to', as opposed to just the '=' which means 'equals'\n",
    "\n",
    "if was_joke_funny == True: \n",
    "    severity_of_fever = severity_of_fever - expected_fever_decrease_after_laughter\n",
    "else: \n",
    "    severity_of_fever = severity_of_fever + 0.1 # fever gets a bit worse\n",
    "    \n",
    "severity_of_fever"
   ]
  },
  {
   "cell_type": "code",
   "execution_count": 1,
   "metadata": {},
   "outputs": [
    {
     "ename": "NameError",
     "evalue": "name 'severity_of_fever' is not defined",
     "output_type": "error",
     "traceback": [
      "\u001b[0;31m---------------------------------------------------------------------------\u001b[0m",
      "\u001b[0;31mNameError\u001b[0m                                 Traceback (most recent call last)",
      "\u001b[0;32m<ipython-input-1-850c09aa467f>\u001b[0m in \u001b[0;36m<module>\u001b[0;34m\u001b[0m\n\u001b[1;32m      8\u001b[0m     \u001b[0mseverity_of_fever\u001b[0m \u001b[0;34m=\u001b[0m \u001b[0mseverity_of_fever\u001b[0m \u001b[0;34m+\u001b[0m \u001b[0;36m0.25\u001b[0m \u001b[0;31m# fever gets much worse with bad jokes\u001b[0m\u001b[0;34m\u001b[0m\u001b[0;34m\u001b[0m\u001b[0m\n\u001b[1;32m      9\u001b[0m \u001b[0;32melse\u001b[0m\u001b[0;34m:\u001b[0m\u001b[0;34m\u001b[0m\u001b[0;34m\u001b[0m\u001b[0m\n\u001b[0;32m---> 10\u001b[0;31m     \u001b[0mseverity_of_fever\u001b[0m \u001b[0;34m=\u001b[0m \u001b[0mseverity_of_fever\u001b[0m \u001b[0;34m+\u001b[0m \u001b[0;36m0.1\u001b[0m \u001b[0;31m# fever gets a bit worse\u001b[0m\u001b[0;34m\u001b[0m\u001b[0;34m\u001b[0m\u001b[0m\n\u001b[0m\u001b[1;32m     11\u001b[0m \u001b[0;34m\u001b[0m\u001b[0m\n\u001b[1;32m     12\u001b[0m \u001b[0mseverity_of_fever\u001b[0m\u001b[0;34m\u001b[0m\u001b[0;34m\u001b[0m\u001b[0m\n",
      "\u001b[0;31mNameError\u001b[0m: name 'severity_of_fever' is not defined"
     ]
    }
   ],
   "source": [
    "# could also have a third condition for when we want to check many things \n",
    "\n",
    "joke_funniness = 3 # on 10 point scale \n",
    "\n",
    "if joke_funniness >= 6: # '>=' means greater than or equal to \n",
    "    severity_of_fever = severity_of_fever - expected_fever_decrease_after_laughter\n",
    "elif joke_funniness < 3: \n",
    "    severity_of_fever = severity_of_fever + 0.25 # fever gets much worse with bad jokes\n",
    "else: \n",
    "    severity_of_fever = severity_of_fever + 0.1 # fever gets a bit worse\n",
    "\n",
    "severity_of_fever"
   ]
  },
  {
   "cell_type": "markdown",
   "metadata": {},
   "source": [
    "# Lists"
   ]
  },
  {
   "cell_type": "code",
   "execution_count": 1,
   "metadata": {},
   "outputs": [
    {
     "data": {
      "text/plain": [
       "36.1"
      ]
     },
     "execution_count": 1,
     "metadata": {},
     "output_type": "execute_result"
    }
   ],
   "source": [
    "temps = [36.1, 36.8, 37.0, 37.4, 37.2, 38.1] # list of Bob's temps from Monday to Saturday\n",
    "\n",
    "temps[0] # first element of temps -- Monday"
   ]
  },
  {
   "cell_type": "code",
   "execution_count": 2,
   "metadata": {},
   "outputs": [
    {
     "data": {
      "text/plain": [
       "[36.1, 36.8, 37.0, 37.4, 37.2, 38.1, 38.1, 37.5, 38.0]"
      ]
     },
     "execution_count": 2,
     "metadata": {},
     "output_type": "execute_result"
    }
   ],
   "source": [
    "temps2 = [38.1, 37.5, 38.0] # Bob's temps from Sunday to the next Tuesday\n",
    "\n",
    "alltemps = temps+temps2\n",
    "\n",
    "alltemps"
   ]
  },
  {
   "cell_type": "markdown",
   "metadata": {},
   "source": [
    "# Dictionaries"
   ]
  },
  {
   "cell_type": "code",
   "execution_count": 5,
   "metadata": {},
   "outputs": [
    {
     "data": {
      "text/plain": [
       "'Bob'"
      ]
     },
     "execution_count": 5,
     "metadata": {},
     "output_type": "execute_result"
    }
   ],
   "source": [
    "# notice that we can add any type of variable as a value to our key\n",
    "# dictionaries help keep everything organized in one spot\n",
    "\n",
    "s001 = {\n",
    "    'name': 'Bob', \n",
    "    'age': 25, \n",
    "    'severity_of_fever': 4.5, \n",
    "    'has_COVID': True, \n",
    "    'was_joke_funny': False,\n",
    "    'temps': [36.1, 36.8, 37.0, 37.4, 37.2, 38.1, 38.1, 37.5, 38.0]\n",
    "}\n",
    "\n",
    "s001['name']"
   ]
  },
  {
   "cell_type": "code",
   "execution_count": 6,
   "metadata": {},
   "outputs": [
    {
     "data": {
      "text/plain": [
       "36.1"
      ]
     },
     "execution_count": 6,
     "metadata": {},
     "output_type": "execute_result"
    }
   ],
   "source": [
    "# we can also double index when appropriate \n",
    "\n",
    "s001['temps'][0] # subject 1 (Bob's) temperature on the first Monday"
   ]
  },
  {
   "cell_type": "code",
   "execution_count": 7,
   "metadata": {},
   "outputs": [
    {
     "data": {
      "text/plain": [
       "{'name': 'Bob',\n",
       " 'age': 25,\n",
       " 'severity_of_fever': 4.5,\n",
       " 'has_COVID': True,\n",
       " 'was_joke_funny': False,\n",
       " 'temps': [36.1, 36.8, 37.0, 37.4, 37.2, 38.1, 38.1, 37.5, 38.0],\n",
       " 'weight': 178}"
      ]
     },
     "execution_count": 7,
     "metadata": {},
     "output_type": "execute_result"
    }
   ],
   "source": [
    "# we can also add a key to our dictionary that wasn't previously there\n",
    "\n",
    "s001['weight'] = 178\n",
    "s001"
   ]
  },
  {
   "cell_type": "markdown",
   "metadata": {},
   "source": [
    "# For Loops"
   ]
  },
  {
   "cell_type": "code",
   "execution_count": null,
   "metadata": {},
   "outputs": [],
   "source": [
    "for t in alltemps: \n",
    "    print(t) # don't worry about the print() -- we'll see this soon\n",
    "\n",
    "print('///////')\n",
    "\n",
    "for t in alltemps: \n",
    "    newt = t+0.2\n",
    "    print(newt)"
   ]
  },
  {
   "cell_type": "markdown",
   "metadata": {},
   "source": [
    "# While Loop "
   ]
  },
  {
   "cell_type": "code",
   "execution_count": 1,
   "metadata": {},
   "outputs": [
    {
     "name": "stdout",
     "output_type": "stream",
     "text": [
      "36.5\n",
      "36.7\n",
      "36.900000000000006\n",
      "37.10000000000001\n",
      "37.30000000000001\n",
      "37.500000000000014\n",
      "37.70000000000002\n",
      "37.90000000000002\n",
      "38.10000000000002\n",
      "UH OH!\n"
     ]
    }
   ],
   "source": [
    "BobsTemp = 36.3 # Bob's temperature starts out at 36.3\n",
    "\n",
    "while BobsTemp < 38.0: \n",
    "    BobsTemp = BobsTemp + 0.2 # assume Bob's temperature goes up by 0.2 every day\n",
    "    print(BobsTemp) # keep track of BobsTemp\n",
    "\n",
    "print('UH OH!') # this command will only get executed when the while loop breaks; so when Bob's temperature goes above 38.0"
   ]
  },
  {
   "cell_type": "markdown",
   "metadata": {},
   "source": [
    "# Functions "
   ]
  },
  {
   "cell_type": "code",
   "execution_count": 5,
   "metadata": {},
   "outputs": [
    {
     "name": "stdout",
     "output_type": "stream",
     "text": [
      "5\n",
      "10\n",
      "3\n",
      "17\n"
     ]
    }
   ],
   "source": [
    "# defines function that takes in someone's starting temperature and how much it rises per day\n",
    "# outputs how many days until they develop a fever\n",
    "\n",
    "def days_until_fever(starting_temp, increase_per_day): # arguments are starting_temp and increase_per_day\n",
    "    day = 1 # number of days\n",
    "    temp = starting_temp # current temperature initialized as starting_temp\n",
    "    while temp < 38: # use while loop within a function\n",
    "        day = day + 1 # a new day, a new measurement\n",
    "        temp = temp+increase_per_day # update current temperature after increase\n",
    "    \n",
    "    return day # at the end, return how many days until the while loop concluded (until they got a fever)\n",
    "\n",
    "# we can then use the same function in many cases without having to retype the same code all the time\n",
    "print(days_until_fever(36.4, 0.5))\n",
    "print(days_until_fever(36.1, 0.23))\n",
    "print(days_until_fever(36.8, 0.6))\n",
    "print(days_until_fever(36.1, 0.12))\n",
    "        \n",
    "    "
   ]
  },
  {
   "cell_type": "markdown",
   "metadata": {},
   "source": [
    "# Objects"
   ]
  },
  {
   "cell_type": "code",
   "execution_count": 10,
   "metadata": {},
   "outputs": [
    {
     "data": {
      "text/plain": [
       "'Cassandra'"
      ]
     },
     "execution_count": 10,
     "metadata": {},
     "output_type": "execute_result"
    }
   ],
   "source": [
    "# here we're going to define a class, 'Subject', who will have certain characteristics\n",
    "# we use the class tag to do this; by convention objects are usually capitalized \n",
    "\n",
    "class Subjects:\n",
    "  # we have to start with an __init__ function that will create our object and be called when a new instance is made\n",
    "  def __init__(self, name, age, weight, temperature, was_joke_funny):\n",
    "    # then we define all of our variables based on 'self'\n",
    "    self.name = name\n",
    "    self.age = age\n",
    "    self.weight = weight\n",
    "    self.temperature = temperature \n",
    "    self.was_joke_funny = was_joke_funny\n",
    "\n",
    "# now we can define our subjects based on the class\n",
    "s0001 = Subjects('Bob', 25, 178, 37.5, 'no')\n",
    "s0002 = Subjects('Alex', 30, 155, 36.4, 'yes')\n",
    "s0003 = Subjects('Jennifer', 22, 101, 39.5, 'no')\n",
    "s0004 = Subjects('Cassandra', 21, 110, 37.3, 'no')\n",
    "\n",
    "# we can then check specific attributes of a subject using .\n",
    "s0004.name"
   ]
  },
  {
   "cell_type": "markdown",
   "metadata": {},
   "source": [
    "# Libraries"
   ]
  },
  {
   "cell_type": "code",
   "execution_count": 13,
   "metadata": {},
   "outputs": [
    {
     "data": {
      "text/plain": [
       "37.675"
      ]
     },
     "execution_count": 13,
     "metadata": {},
     "output_type": "execute_result"
    }
   ],
   "source": [
    "# Imagine we want to create an average temperature for our subjects\n",
    "temps = [s0001.temperature, s0002.temperature, s0003.temperature, s0004.temperature]\n",
    "\n",
    "# we could use our own function to do so\n",
    "def get_avg(values): \n",
    "    avg = sum(values)/len(values) # use built-in python functions\n",
    "    return avg \n",
    "get_avg(temps)\n",
    "\n"
   ]
  },
  {
   "cell_type": "code",
   "execution_count": 14,
   "metadata": {},
   "outputs": [
    {
     "data": {
      "text/plain": [
       "37.675"
      ]
     },
     "execution_count": 14,
     "metadata": {},
     "output_type": "execute_result"
    }
   ],
   "source": [
    "# but we could also import a pre-made average function from the statistics library\n",
    "import statistics as stats # import using import and the \"as\" tag to define the preferred name to call for it\n",
    "\n",
    "stats.mean(temps) # use the 'mean' function from stats "
   ]
  },
  {
   "cell_type": "code",
   "execution_count": null,
   "metadata": {},
   "outputs": [],
   "source": []
  }
 ],
 "metadata": {
  "kernelspec": {
   "display_name": "Python 3",
   "language": "python",
   "name": "python3"
  },
  "language_info": {
   "codemirror_mode": {
    "name": "ipython",
    "version": 3
   },
   "file_extension": ".py",
   "mimetype": "text/x-python",
   "name": "python",
   "nbconvert_exporter": "python",
   "pygments_lexer": "ipython3",
   "version": "3.7.6"
  }
 },
 "nbformat": 4,
 "nbformat_minor": 2
}
