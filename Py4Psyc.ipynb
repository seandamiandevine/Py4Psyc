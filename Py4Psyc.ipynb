{
 "cells": [
  {
   "cell_type": "markdown",
   "metadata": {},
   "source": [
    "# Variables"
   ]
  },
  {
   "cell_type": "code",
   "execution_count": 1,
   "metadata": {},
   "outputs": [],
   "source": [
    "name = 'Bob' # string\n",
    "age = 25 # integer\n",
    "severity_of_fever = 4.5 # float \n",
    "expected_fever_decrease_after_laughter = 1.25 # float\n",
    "has_COVID = True # Boolean \n",
    "was_joke_funny = False # Boolean\n",
    "\n",
    "# # # # # \n",
    "name"
   ]
  },
  {
   "cell_type": "code",
   "execution_count": null,
   "metadata": {},
   "outputs": [],
   "source": [
    "severity_of_fever - expected_fever_decrease_after_laughter"
   ]
  },
  {
   "cell_type": "markdown",
   "metadata": {},
   "source": [
    "# Conditionals"
   ]
  },
  {
   "cell_type": "code",
   "execution_count": null,
   "metadata": {},
   "outputs": [],
   "source": [
    "# notice how after the 'if' statements, sections are tabbed in\n",
    "# this is crucial for python and this tab structure has to be obeyed \n",
    "# also note the '==', which stands for 'is equal to', as opposed to just the '=' which means 'equals'\n",
    "\n",
    "if was_joke_funny == True: \n",
    "    severity_of_fever = severity_of_fever - expected_fever_decrease_after_laughter\n",
    "else: \n",
    "    severity_of_fever = severity_of_fever + 0.1 # fever gets a bit worse\n",
    "    \n",
    "severity_of_fever"
   ]
  },
  {
   "cell_type": "code",
   "execution_count": 1,
   "metadata": {},
   "outputs": [
    {
     "ename": "NameError",
     "evalue": "name 'severity_of_fever' is not defined",
     "output_type": "error",
     "traceback": [
      "\u001b[0;31m---------------------------------------------------------------------------\u001b[0m",
      "\u001b[0;31mNameError\u001b[0m                                 Traceback (most recent call last)",
      "\u001b[0;32m<ipython-input-1-850c09aa467f>\u001b[0m in \u001b[0;36m<module>\u001b[0;34m\u001b[0m\n\u001b[1;32m      8\u001b[0m     \u001b[0mseverity_of_fever\u001b[0m \u001b[0;34m=\u001b[0m \u001b[0mseverity_of_fever\u001b[0m \u001b[0;34m+\u001b[0m \u001b[0;36m0.25\u001b[0m \u001b[0;31m# fever gets much worse with bad jokes\u001b[0m\u001b[0;34m\u001b[0m\u001b[0;34m\u001b[0m\u001b[0m\n\u001b[1;32m      9\u001b[0m \u001b[0;32melse\u001b[0m\u001b[0;34m:\u001b[0m\u001b[0;34m\u001b[0m\u001b[0;34m\u001b[0m\u001b[0m\n\u001b[0;32m---> 10\u001b[0;31m     \u001b[0mseverity_of_fever\u001b[0m \u001b[0;34m=\u001b[0m \u001b[0mseverity_of_fever\u001b[0m \u001b[0;34m+\u001b[0m \u001b[0;36m0.1\u001b[0m \u001b[0;31m# fever gets a bit worse\u001b[0m\u001b[0;34m\u001b[0m\u001b[0;34m\u001b[0m\u001b[0m\n\u001b[0m\u001b[1;32m     11\u001b[0m \u001b[0;34m\u001b[0m\u001b[0m\n\u001b[1;32m     12\u001b[0m \u001b[0mseverity_of_fever\u001b[0m\u001b[0;34m\u001b[0m\u001b[0;34m\u001b[0m\u001b[0m\n",
      "\u001b[0;31mNameError\u001b[0m: name 'severity_of_fever' is not defined"
     ]
    }
   ],
   "source": [
    "# could also have a third condition for when we want to check many things \n",
    "\n",
    "joke_funniness = 3 # on 10 point scale \n",
    "\n",
    "if joke_funniness >= 6: # '>=' means greater than or equal to \n",
    "    severity_of_fever = severity_of_fever - expected_fever_decrease_after_laughter\n",
    "elif joke_funniness < 3: \n",
    "    severity_of_fever = severity_of_fever + 0.25 # fever gets much worse with bad jokes\n",
    "else: \n",
    "    severity_of_fever = severity_of_fever + 0.1 # fever gets a bit worse\n",
    "\n",
    "severity_of_fever"
   ]
  },
  {
   "cell_type": "markdown",
   "metadata": {},
   "source": [
    "# Lists"
   ]
  },
  {
   "cell_type": "code",
   "execution_count": 2,
   "metadata": {},
   "outputs": [
    {
     "data": {
      "text/plain": [
       "36.1"
      ]
     },
     "execution_count": 2,
     "metadata": {},
     "output_type": "execute_result"
    }
   ],
   "source": [
    "temps = [36.1, 36.8, 37.0, 37.4, 37.2, 38.1] # list of Bob's temps from Monday to Saturday\n",
    "\n",
    "temps[0] # first element of temps -- Monday"
   ]
  },
  {
   "cell_type": "code",
   "execution_count": 3,
   "metadata": {},
   "outputs": [
    {
     "data": {
      "text/plain": [
       "[36.1, 36.8, 37.0, 37.4, 37.2, 38.1, 38.1, 37.5, 38.0]"
      ]
     },
     "execution_count": 3,
     "metadata": {},
     "output_type": "execute_result"
    }
   ],
   "source": [
    "temps2 = [38.1, 37.5, 38.0] # Bob's temps from Sunday to the next Tuesday\n",
    "\n",
    "alltemps = temps+temps2\n",
    "\n",
    "alltemps"
   ]
  },
  {
   "cell_type": "markdown",
   "metadata": {},
   "source": [
    "# Dictionaries"
   ]
  },
  {
   "cell_type": "code",
   "execution_count": 4,
   "metadata": {},
   "outputs": [
    {
     "data": {
      "text/plain": [
       "'Bob'"
      ]
     },
     "execution_count": 4,
     "metadata": {},
     "output_type": "execute_result"
    }
   ],
   "source": [
    "# notice that we can add any type of variable as a value to our key\n",
    "# dictionaries help keep everything organized in one spot\n",
    "\n",
    "s001 = {\n",
    "    'name': 'Bob', \n",
    "    'age': 25, \n",
    "    'severity_of_fever': 4.5, \n",
    "    'has_COVID': True, \n",
    "    'was_joke_funny': False,\n",
    "    'temps': [36.1, 36.8, 37.0, 37.4, 37.2, 38.1, 38.1, 37.5, 38.0]\n",
    "}\n",
    "\n",
    "s001['name']"
   ]
  },
  {
   "cell_type": "code",
   "execution_count": 5,
   "metadata": {},
   "outputs": [
    {
     "data": {
      "text/plain": [
       "36.1"
      ]
     },
     "execution_count": 5,
     "metadata": {},
     "output_type": "execute_result"
    }
   ],
   "source": [
    "# we can also double index when appropriate \n",
    "\n",
    "s001['temps'][0] # subject 1 (Bob's) temperature on the first Monday"
   ]
  },
  {
   "cell_type": "code",
   "execution_count": 6,
   "metadata": {},
   "outputs": [
    {
     "data": {
      "text/plain": [
       "{'name': 'Bob',\n",
       " 'age': 25,\n",
       " 'severity_of_fever': 4.5,\n",
       " 'has_COVID': True,\n",
       " 'was_joke_funny': False,\n",
       " 'temps': [36.1, 36.8, 37.0, 37.4, 37.2, 38.1, 38.1, 37.5, 38.0],\n",
       " 'weight': 178}"
      ]
     },
     "execution_count": 6,
     "metadata": {},
     "output_type": "execute_result"
    }
   ],
   "source": [
    "# we can also add a key to our dictionary that wasn't previously there\n",
    "\n",
    "s001['weight'] = 178\n",
    "s001"
   ]
  },
  {
   "cell_type": "code",
   "execution_count": null,
   "metadata": {},
   "outputs": [],
   "source": []
  }
 ],
 "metadata": {
  "kernelspec": {
   "display_name": "Python 3",
   "language": "python",
   "name": "python3"
  },
  "language_info": {
   "codemirror_mode": {
    "name": "ipython",
    "version": 3
   },
   "file_extension": ".py",
   "mimetype": "text/x-python",
   "name": "python",
   "nbconvert_exporter": "python",
   "pygments_lexer": "ipython3",
   "version": "3.7.6"
  }
 },
 "nbformat": 4,
 "nbformat_minor": 2
}
