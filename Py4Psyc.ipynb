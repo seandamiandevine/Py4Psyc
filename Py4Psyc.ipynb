{
 "cells": [
  {
   "cell_type": "markdown",
   "metadata": {},
   "source": [
    "# Variables"
   ]
  },
  {
   "cell_type": "code",
   "execution_count": 1,
   "metadata": {},
   "outputs": [],
   "source": [
    "name = 'Bob' # string\n",
    "age = 25 # integer\n",
    "severity_of_fever = 4.5 # float \n",
    "expected_fever_decrease_after_laughter = 1.25 # float\n",
    "has_COVID = True # Boolean \n",
    "was_joke_funny = False # Boolean\n",
    "\n",
    "# # # # # \n",
    "name"
   ]
  },
  {
   "cell_type": "code",
   "execution_count": null,
   "metadata": {},
   "outputs": [],
   "source": [
    "severity_of_fever - expected_fever_decrease_after_laughter"
   ]
  },
  {
   "cell_type": "markdown",
   "metadata": {},
   "source": [
    "# Conditionals"
   ]
  },
  {
   "cell_type": "code",
   "execution_count": null,
   "metadata": {},
   "outputs": [],
   "source": [
    "# notice how after the 'if' statements, sections are tabbed in\n",
    "# this is crucial for python and this tab structure has to be obeyed \n",
    "# also note the '==', which stands for 'is equal to', as opposed to just the '=' which means 'equals'\n",
    "\n",
    "if was_joke_funny == True: \n",
    "    severity_of_fever = severity_of_fever - expected_fever_decrease_after_laughter\n",
    "else: \n",
    "    severity_of_fever = severity_of_fever + 0.1 # fever gets a bit worse\n",
    "    \n",
    "severity_of_fever"
   ]
  },
  {
   "cell_type": "code",
   "execution_count": null,
   "metadata": {},
   "outputs": [],
   "source": [
    "# could also have a third condition for when we want to check many things \n",
    "\n",
    "joke_funniness = 3 # on 10 point scale \n",
    "\n",
    "if joke_funniness >= 6: # '>=' means greater than or equal to \n",
    "    severity_of_fever = severity_of_fever - expected_fever_decrease_after_laughter\n",
    "elif joke_funniness < 3: \n",
    "    severity_of_fever = severity_of_fever + 0.25 # fever gets much worse with bad jokes\n",
    "else: \n",
    "    severity_of_fever = severity_of_fever + 0.1 # fever gets a bit worse\n"
   ]
  }
 ],
 "metadata": {
  "kernelspec": {
   "display_name": "Python 3",
   "language": "python",
   "name": "python3"
  },
  "language_info": {
   "codemirror_mode": {
    "name": "ipython",
    "version": 3
   },
   "file_extension": ".py",
   "mimetype": "text/x-python",
   "name": "python",
   "nbconvert_exporter": "python",
   "pygments_lexer": "ipython3",
   "version": "3.7.6"
  }
 },
 "nbformat": 4,
 "nbformat_minor": 2
}
